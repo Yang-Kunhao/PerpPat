{
 "cells": [
  {
   "cell_type": "code",
   "execution_count": null,
   "metadata": {},
   "outputs": [],
   "source": [
    "import numpy as np\n",
    "import pandas as pd\n",
    "import pymc3 as pm\n",
    "\n",
    "from matplotlib import pyplot as plt\n",
    "#import time\n",
    "#from tqdm.notebook import tqdm\n",
    "from theano import tensor as tt\n",
    "from IPython.core.pylabtools import figsize\n",
    "import os\n",
    "from datetime import datetime\n",
    "from sklearn.preprocessing import StandardScaler"
   ]
  },
  {
   "cell_type": "code",
   "execution_count": null,
   "metadata": {},
   "outputs": [],
   "source": [
    "def save_fig(fig_id,IMAGES_PATH, tight_layout=True, fig_extension=\"png\", resolution=300):\n",
    "    path = os.path.join(IMAGES_PATH, fig_id + \".\" + fig_extension)\n",
    "    print(\"Saving figure\", fig_id)\n",
    "    if tight_layout:\n",
    "        plt.tight_layout()\n",
    "    plt.savefig(path, format=fig_extension, dpi=resolution)\n",
    "\n",
    "class MMS():\n",
    "    def __init__(self,LB,UB): \n",
    "        self.LB = LB\n",
    "        self.UB = UB\n",
    "    def fit(self,x): return (x-self.LB)/(self.UB-self.LB)\n",
    "\n",
    "Outputpath = os.path.join(\"Results\",datetime.strftime(datetime.now(),\"%y%m%d\"))\n",
    "os.makedirs(Outputpath,exist_ok=True)"
   ]
  },
  {
   "cell_type": "code",
   "execution_count": null,
   "metadata": {},
   "outputs": [],
   "source": [
    "rawdata = pd.read_csv(\"RawData.csv\")\n",
    "data = rawdata.copy()\n",
    "\n",
    "TestScoreMax = data[\"TestScore\"].max()\n",
    "TestScoreMin = data[\"TestScore\"].min()\n",
    "coutWord = 0\n",
    "CogVarList = []\n",
    "for n in list(data.columns):\n",
    "    if \"WordCat\" in n: \n",
    "        coutWord += 1\n",
    "        CogVarList.append(n)\n",
    "\n",
    "Cogobdata = data[CogVarList].values.astype(\"int32\")\n",
    "\n",
    "\n",
    "data.describe()"
   ]
  },
  {
   "cell_type": "code",
   "execution_count": null,
   "metadata": {},
   "outputs": [],
   "source": [
    "from scipy.stats import pearsonr\n",
    "print(\"Correlation: {:.2f}\\\n",
    "    , p-value: {:.4f}\".format(pearsonr(\\\n",
    "        data[\"TestScore\"]\\\n",
    "            ,data[CogVarList].sum(axis=1)/38\\\n",
    "                )[0]\\\n",
    "                    ,pearsonr(data[\"TestScore\"]\\\n",
    "                        ,data[CogVarList].sum(axis=1)/38\\\n",
    "                            )[1]\\\n",
    "                                )\\\n",
    "                                    )\n",
    "figsize(10,10)\n",
    "plt.scatter(data[\"TestScore\"],data[CogVarList].sum(axis=1)/38)"
   ]
  },
  {
   "cell_type": "code",
   "execution_count": null,
   "metadata": {},
   "outputs": [],
   "source": [
    "print(\"Median: {:.2f}, Mean: {:.2f}\".format(np.median(data[\"TestScore\"]),np.mean(data[\"TestScore\"])))\n",
    "figsize(10,10)\n",
    "histdata = plt.hist(data[\"TestScore\"],color=\"grey\")\n",
    "for v,k in zip(histdata[0],histdata[1]):\n",
    "    plt.text(k+0.5,v,round(v),fontdict={\"size\":15})\n",
    "plt.savefig(os.path.join(Outputpath,\"KnDis.png\"))"
   ]
  },
  {
   "cell_type": "code",
   "execution_count": null,
   "metadata": {},
   "outputs": [],
   "source": [
    "from collections import Counter\n",
    "histdata = plt.hist((data[CogVarList].sum(axis=0)/200).values,color = \"grey\")\n",
    "\n",
    "\n",
    "for v,k in zip(histdata[0],histdata[1]):\n",
    "    plt.text(k+0.01,v,v,fontdict={\"size\":15})\n",
    "\n",
    "plt.savefig(os.path.join(Outputpath,\"ChoiceDistr.png\"))\n",
    "plt.show()\n",
    "plt.close()"
   ]
  },
  {
   "cell_type": "code",
   "execution_count": null,
   "metadata": {},
   "outputs": [],
   "source": [
    "with pm.Model() as WordCatModel:\n",
    "    TurnP = pm.DiscreteUniform(\"TurnP\",lower=TestScoreMin,upper= TestScoreMax)\n",
    "    Groupmu = pm.Normal(\"Groupmu\",mu=0,sd=10,shape = 2)\n",
    "    GroupFlag = (data[\"TestScore\"].values >= TurnP)\n",
    "\n",
    "    realmu = pm.math.switch(GroupFlag,Groupmu[0],Groupmu[1])\n",
    "    realmu = tt.reshape(realmu,(data.shape[0],1))\n",
    "\n",
    "    groupSigma = pm.HalfCauchy(\"groupSigma\",beta = 10)\n",
    "    CogP = pm.Normal(\"CogP\",mu=realmu,sd=groupSigma,shape = (data.shape[0],1))\n",
    "\n",
    "    \n",
    "    sigmas = pm.HalfCauchy(\"sigmas\",beta = 10,shape= (1,coutWord))\n",
    "    WordCat = pm.Normal(\"WordCat\",mu = CogP,sigma = sigmas,shape=data[CogVarList].shape)\n",
    "    \n",
    "    diff = pm.Deterministic(\"diff\",Groupmu[0]-Groupmu[1])\n",
    "\n",
    "\n",
    "    probs = pm.Deterministic(\"probs\",pm.math.sigmoid(WordCat))\n",
    "    res = pm.Bernoulli(\"res\",p = probs,observed = Cogobdata)"
   ]
  },
  {
   "cell_type": "code",
   "execution_count": null,
   "metadata": {},
   "outputs": [],
   "source": [
    "InputPath = \"\"\n",
    "InferFlag = True # False#\n",
    "if InferFlag:\n",
    "    with WordCatModel:\n",
    "        WordCattrace = pm.sample(nuts={'target_accept':0.95},chains=10,return_inferencedata=False,random_seed=220626)\n",
    "        pm.save_trace(WordCattrace,os.path.join(Outputpath,\"WordCattrace\"),overwrite=True)\n",
    "else:\n",
    "    with WordCatModel:\n",
    "        WordCattrace = pm.load_trace(os.path.join(InputPath,\"WordCattrace\"))\n"
   ]
  },
  {
   "cell_type": "code",
   "execution_count": null,
   "metadata": {},
   "outputs": [],
   "source": [
    "from sklearn.metrics import roc_curve,recall_score,f1_score\n",
    "with WordCatModel:\n",
    "    spp = pm.sample_posterior_predictive(WordCattrace)\n",
    "ytrue,yhat = Cogobdata.flatten(),spp[\"res\"].mean(axis=0).flatten()\n",
    "print(\"recall: {:.3f}\".format(recall_score(ytrue,yhat>0.5)))\n",
    "print(\"Fscore: {:.3f}\".format(f1_score(ytrue,yhat>0.5)))\n",
    "fpr, tpr, thresholds = roc_curve(ytrue,yhat)\n",
    "figsize(10,10)\n",
    "plt.plot(fpr, tpr,lw=3,color=\"royalblue\")\n",
    "plt.plot([0,1],[0,1],lw=3,color = \"grey\",linestyle=\"--\",alpha=0.75)\n",
    "plt.plot([0,0],[0,1],lw=3,color = \"brown\",linestyle=\"--\",alpha=0.75)\n",
    "plt.plot([0,1],[1,1],lw=3,color = \"brown\",linestyle=\"--\",alpha=0.75)\n",
    "\n",
    "plt.xlabel('FPR: False positive rate')\n",
    "plt.ylabel('TPR: True positive rate')\n",
    "plt.grid()\n",
    "plt.savefig(os.path.join(Outputpath,\"CogPat_Metric.png\"))\n",
    "plt.show()\n",
    "plt.close()"
   ]
  },
  {
   "cell_type": "code",
   "execution_count": null,
   "metadata": {},
   "outputs": [],
   "source": [
    "import seaborn as sns\n",
    "sns.set_style(\"white\")\n",
    "Var = \"Groupmu\"\n",
    "DiffVar = \"diff\"\n",
    "CI = 0.95\n",
    "trace= WordCattrace\n",
    "BurnRatio = 0.75\n",
    "\n",
    "\n",
    "BurnedN = int(len(trace[Var])*BurnRatio)\n",
    "\n",
    "mu = np.mean(trace[DiffVar][BurnedN:])\n",
    "lb = np.quantile(trace[DiffVar][BurnedN:],(1-CI)/2)\n",
    "ub = np.quantile(trace[DiffVar][BurnedN:],CI+(1-CI)/2)\n",
    "print(\"Difference mean:{:.3f}, {:.1f}% CI: {:.3f}~{:.3f}\".format(mu,CI*100,lb,ub))\n",
    "\n",
    "if len(trace[Var].shape) == 1: variable = np.expand_dims(trace[\"diff\"],axis=1).transpose()\n",
    "else: variable = trace[Var].transpose()\n",
    "\n",
    "ColorList = [\"brown\",\"royalblue\"]\n",
    "LabelList = [\"High-score group\",\"Low-score group\"]\n",
    "figsize(10,10)\n",
    "for i in range(variable.shape[0]):\n",
    "    sns.distplot(variable[i][BurnedN:],color=ColorList[i],label=LabelList[i],kde=True)\n",
    "    mu = np.mean(variable[i][BurnedN:])\n",
    "    lb = np.quantile(variable[i][BurnedN:],(1-CI)/2)\n",
    "    ub = np.quantile(variable[i][BurnedN:],CI+(1-CI)/2)\n",
    "    print(\"{} mean:{:.3f}, {:.1f}% CI: {:.3f}~{:.3f}\".format(Var+\"_\"+str(i),mu,CI*100,lb,ub))\n",
    "    \n",
    "plt.legend(fontsize = 15)\n",
    "plt.savefig(os.path.join(Outputpath,\"CogDiff.png\"))\n",
    "plt.show()\n",
    "plt.close()"
   ]
  },
  {
   "cell_type": "code",
   "execution_count": null,
   "metadata": {},
   "outputs": [],
   "source": [
    "from collections import Counter\n",
    "trace= WordCattrace\n",
    "BurnRatio = 0.75\n",
    "BurnedN = int(len(trace[\"diff\"])*BurnRatio)\n",
    "bardata = Counter(trace[\"TurnP\"][BurnedN:])\n",
    "plt.bar(list(bardata.keys()),[i/(len(trace[\"diff\"])-BurnedN) for i in list(bardata.values())],color = \"grey\")\n",
    "plt.xticks(list(bardata.keys()),list(bardata.keys()))\n",
    "\n",
    "for k,v in zip(list(bardata.keys()),[i/(len(trace[\"diff\"])-BurnedN) for i in list(bardata.values())]):\n",
    "    plt.text(k-0.2,v,np.round(v,3),fontdict={\"size\":15})\n",
    "\n",
    "plt.savefig(os.path.join(Outputpath,\"KnThreshold.png\"))\n",
    "plt.show()\n",
    "plt.close()"
   ]
  },
  {
   "cell_type": "code",
   "execution_count": null,
   "metadata": {},
   "outputs": [],
   "source": [
    "from scipy.stats import ttest_ind\n",
    "\n",
    "print(ttest_ind(data.loc[data[\"Gender\"]==1,\"TestScore\"]\\\n",
    "    ,data.loc[data[\"Gender\"]==2,\"TestScore\"]))\n",
    "data.groupby(\"Gender\")[\"TestScore\"].mean()"
   ]
  },
  {
   "cell_type": "code",
   "execution_count": null,
   "metadata": {},
   "outputs": [],
   "source": [
    "from scipy.stats import pearsonr\n",
    "pearsonr(data[\"Age\"],data[\"TestScore\"])"
   ]
  },
  {
   "cell_type": "code",
   "execution_count": null,
   "metadata": {},
   "outputs": [],
   "source": [
    "ControlList = [\"Age\",\"Gender\"]\n",
    "Xvar =\"TestScore\"\n",
    "with pm.Model() as FullModel:\n",
    "    TurnP = pm.DiscreteUniform(\"TurnP\",lower=TestScoreMin,upper= TestScoreMax)\n",
    "    constants = pm.Normal(\"constants\",mu=0,sd=100,shape = 2)\n",
    "\n",
    "    GroupFlag = (data[Xvar].values >= TurnP)\n",
    "\n",
    "    realbetas = pm.Normal(\"realbetas\",mu = 0, sd = 100)\n",
    "    realconstants = pm.Deterministic(\"realconstants\",pm.math.switch(GroupFlag,constants[0],constants[1])) \n",
    "    \n",
    "    controlbetas = pm.Normal(\"controlbetas\",mu = 0, sd = 100, shape=len(ControlList))\n",
    "\n",
    "    mu = realconstants + realbetas*data[Xvar].values\n",
    "    \n",
    "    for i, cv in enumerate(ControlList):\n",
    "        mu += controlbetas[i] * data[cv].values\n",
    "\n",
    "    mu = tt.reshape(mu,(data.shape[0],1))\n",
    "    \n",
    "    sigmas = pm.HalfCauchy(\"sigmas\",beta = 10,shape= (1,coutWord))\n",
    "    WordCat = pm.Normal(\"WordCat\",mu = mu,sigma = sigmas,shape=data[CogVarList].shape)\n",
    "    \n",
    "    constantdiff = pm.Deterministic(\"contantdiff\",constants[0]-constants[1])\n",
    "\n",
    "    probs = pm.math.sigmoid(WordCat)\n",
    "    res = pm.Bernoulli(\"res\",p = probs,observed = Cogobdata)"
   ]
  },
  {
   "cell_type": "code",
   "execution_count": null,
   "metadata": {},
   "outputs": [],
   "source": [
    "InputPath = \"\"\n",
    "InferFlag = True #  False# \n",
    "if InferFlag:\n",
    "    with FullModel:\n",
    "        Fulltrace = pm.sample(nuts={'target_accept':0.95},chains=10,return_inferencedata=False,random_seed=220626)\n",
    "        pm.save_trace(Fulltrace,os.path.join(Outputpath,\"Fulltrace\"),overwrite=True)\n",
    "else:\n",
    "    with FullModel:\n",
    "        Fulltrace = pm.load_trace(os.path.join(InputPath,\"Fulltrace\"))"
   ]
  },
  {
   "cell_type": "code",
   "execution_count": null,
   "metadata": {},
   "outputs": [],
   "source": [
    "from sklearn.metrics import roc_curve,recall_score,f1_score\n",
    "with FullModel:\n",
    "    spp = pm.sample_posterior_predictive(Fulltrace)\n",
    "ytrue,yhat = Cogobdata.flatten(),spp[\"res\"].mean(axis=0).flatten()\n",
    "print(\"recall: {:.3f}\".format(recall_score(ytrue,yhat>0.5)))\n",
    "print(\"Fscore: {:.3f}\".format(f1_score(ytrue,yhat>0.5)))\n",
    "fpr, tpr, thresholds = roc_curve(ytrue,yhat)\n",
    "figsize(10,10)\n",
    "plt.plot(fpr, tpr,lw=3,color=\"royalblue\")\n",
    "plt.plot([0,1],[0,1],lw=3,color = \"grey\",linestyle=\"--\",alpha=0.75)\n",
    "plt.plot([0,0],[0,1],lw=3,color = \"brown\",linestyle=\"--\",alpha=0.75)\n",
    "plt.plot([0,1],[1,1],lw=3,color = \"brown\",linestyle=\"--\",alpha=0.75)\n",
    "\n",
    "plt.xlabel('FPR: False positive rate')\n",
    "plt.ylabel('TPR: True positive rate')\n",
    "plt.grid()\n",
    "plt.savefig(os.path.join(Outputpath,\"FullModel_Metric.png\"))\n",
    "plt.show()\n",
    "plt.close()"
   ]
  },
  {
   "cell_type": "code",
   "execution_count": null,
   "metadata": {},
   "outputs": [],
   "source": [
    "def sigmoid(x):\n",
    "    return 1/(1+ np.exp(-x))\n",
    "\n",
    "def predict(ConVar,trace,CI=0.95):\n",
    "    yhat = np.zeros((21,3))\n",
    "    for i, ts in enumerate(np.arange(0,21)) :\n",
    "        Flag = ts < trace[\"TurnP\"][BurnedN:]\n",
    "        constant = np.array([c[int(f)] for f, c in zip(Flag,trace[\"constants\"][BurnedN:])])\n",
    "        mu = trace[\"realbetas\"][BurnedN:]*ts\n",
    "        mu+=(trace[\"controlbetas\"][BurnedN:]*ConVar).sum(axis=1)\n",
    "        mu+=constant\n",
    "        yhat[i,:] = np.quantile(sigmoid(mu),[(1-CI)/2,0.5,CI+(1-CI)/2]) \n",
    "    return yhat\n",
    "\n",
    "CI = 0.95\n",
    "yhat1 = predict(np.array([np.mean(data[\"Age\"]),1]),Fulltrace)\n",
    "yhat2 = predict(np.array([np.mean(data[\"Age\"]),2]),Fulltrace)"
   ]
  },
  {
   "cell_type": "code",
   "execution_count": null,
   "metadata": {},
   "outputs": [],
   "source": [
    "figsize(10,10)\n",
    "plt.plot(yhat1.transpose()[1,:],lw=3,linestyle=\"--\",color=\"brown\",label=\"male\")\n",
    "plt.fill_between(np.arange(0,21),yhat1.transpose()[0,:],yhat1.transpose()[2,:],color=\"grey\",alpha=0.5,label=\"{}% CI\".format(CI*100))\n",
    "plt.plot(yhat2.transpose()[1,:],lw=3,linestyle=\"--\",color=\"royalblue\",label=\"female\")\n",
    "plt.fill_between(np.arange(0,21),yhat2.transpose()[0,:],yhat2.transpose()[2,:],color=\"grey\",alpha=0.5)\n",
    "plt.legend()\n",
    "plt.savefig(os.path.join(Outputpath,\"yhat_SI.png\"))\n",
    "plt.show()\n",
    "plt.close()"
   ]
  }
 ],
 "metadata": {
  "interpreter": {
   "hash": "0d40c47e01ef9f6ee3d21954b1cbd2d75336231a1f366cf444d0ebe6db44dd58"
  },
  "kernelspec": {
   "display_name": "Python 3.8.10 ('Pymc3')",
   "language": "python",
   "name": "python3"
  },
  "language_info": {
   "codemirror_mode": {
    "name": "ipython",
    "version": 3
   },
   "file_extension": ".py",
   "mimetype": "text/x-python",
   "name": "python",
   "nbconvert_exporter": "python",
   "pygments_lexer": "ipython3",
   "version": "3.8.10"
  },
  "orig_nbformat": 4
 },
 "nbformat": 4,
 "nbformat_minor": 2
}
